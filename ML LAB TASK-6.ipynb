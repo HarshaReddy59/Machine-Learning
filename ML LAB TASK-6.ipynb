{
 "cells": [
  {
   "cell_type": "code",
   "execution_count": null,
   "id": "ee0e4cfc",
   "metadata": {},
   "outputs": [],
   "source": [
    "\"\"\"Implement K-NN Classifier for classification of any dataset of your choice.\n",
    "a. Load an existing data set\n",
    "b. Split the data set to train and test sets\n",
    "c. Test your model using test set. Find accuracy and confusion Matrix.\n",
    "d. Examine the effect of the value of K on accuracy/performance. Plot the curve “k vs\n",
    "accuracy” and find out the value of k for maximum accuracy for the test samples.\n",
    "NOTE: Don’t use any library. Develop a generalised function to implement K-NN Classifier.\"\"\""
   ]
  },
  {
   "cell_type": "code",
   "execution_count": 31,
   "id": "8a418fca",
   "metadata": {},
   "outputs": [],
   "source": [
    "#a. Load an existing data set\n",
    "\n",
    "import numpy as np\n",
    "\n",
    "def load_dataset():\n",
    "    # Example dataset (Iris)\n",
    "    from sklearn.datasets import load_iris\n",
    "    iris = load_iris()\n",
    "    X, y = iris.data, iris.target\n",
    "    return X, y"
   ]
  },
  {
   "cell_type": "code",
   "execution_count": 32,
   "id": "404166a1",
   "metadata": {},
   "outputs": [
    {
     "name": "stdout",
     "output_type": "stream",
     "text": [
      "X_train shape: (120, 4)\n",
      "X_test shape: (30, 4)\n",
      "y_train shape: (120,)\n",
      "y_test shape: (30,)\n"
     ]
    }
   ],
   "source": [
    "#b. Split the data set to train and test sets\n",
    "def train_test_split(X, y, test_size=0.2, random_state=None):\n",
    "    if random_state is not None:\n",
    "        np.random.seed(random_state)\n",
    "        \n",
    "    num_test = int(test_size * len(X))\n",
    "    indices = np.random.permutation(len(X))\n",
    "    X_train = X[indices[num_test:]]\n",
    "    y_train = y[indices[num_test:]]\n",
    "    X_test = X[indices[:num_test]]\n",
    "    y_test = y[indices[:num_test]]\n",
    "    return X_train, X_test, y_train, y_test\n",
    "\n",
    "def main():\n",
    "    # Load dataset\n",
    "    X, y = load_dataset()\n",
    "\n",
    "    # Split dataset into train and test sets\n",
    "    X_train, X_test, y_train, y_test = train_test_split(X, y, test_size=0.2, random_state=42)\n",
    "\n",
    "    print(\"X_train shape:\", X_train.shape)\n",
    "    print(\"X_test shape:\", X_test.shape)\n",
    "    print(\"y_train shape:\", y_train.shape)\n",
    "    print(\"y_test shape:\", y_test.shape)\n",
    "\n",
    "if __name__ == \"__main__\":\n",
    "    main()"
   ]
  },
  {
   "cell_type": "code",
   "execution_count": null,
   "id": "3e25c917",
   "metadata": {},
   "outputs": [],
   "source": [
    "#c. Test your model using test set. Find accuracy and confusion Matrix.\n"
   ]
  },
  {
   "cell_type": "code",
   "execution_count": null,
   "id": "cd7dc8b7",
   "metadata": {},
   "outputs": [],
   "source": []
  }
 ],
 "metadata": {
  "kernelspec": {
   "display_name": "Python 3 (ipykernel)",
   "language": "python",
   "name": "python3"
  },
  "language_info": {
   "codemirror_mode": {
    "name": "ipython",
    "version": 3
   },
   "file_extension": ".py",
   "mimetype": "text/x-python",
   "name": "python",
   "nbconvert_exporter": "python",
   "pygments_lexer": "ipython3",
   "version": "3.9.13"
  }
 },
 "nbformat": 4,
 "nbformat_minor": 5
}
